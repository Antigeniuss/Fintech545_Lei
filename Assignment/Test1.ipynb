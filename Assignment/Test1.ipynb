{
 "cells": [
  {
   "cell_type": "code",
   "execution_count": 1,
   "id": "892bb589",
   "metadata": {},
   "outputs": [],
   "source": [
    "import pandas as pd"
   ]
  },
  {
   "cell_type": "code",
   "execution_count": 2,
   "id": "9d968224",
   "metadata": {},
   "outputs": [
    {
     "name": "stdout",
     "output_type": "stream",
     "text": [
      "Covariance_skip\n",
      "          x1        x2        x3        x4        x5\n",
      "x1  2.148513 -1.389470 -0.516466 -0.129327 -1.056814\n",
      "x2 -1.389470  1.035342  0.339993  0.193888  0.626876\n",
      "x3 -0.516466  0.339993  0.942388  0.947887  0.051788\n",
      "x4 -0.129327  0.193888  0.947887  1.113436 -0.204731\n",
      "x5 -1.056814  0.626876  0.051788 -0.204731  0.592027\n",
      "Correlation_skip\n",
      "          x1        x2        x3        x4        x5\n",
      "x1  1.000000 -0.931618 -0.362959 -0.083616 -0.937042\n",
      "x2 -0.931618  1.000000  0.344202  0.180583  0.800698\n",
      "x3 -0.362959  0.344202  1.000000  0.925357  0.069333\n",
      "x4 -0.083616  0.180583  0.925357  1.000000 -0.252163\n",
      "x5 -0.937042  0.800698  0.069333 -0.252163  1.000000\n"
     ]
    }
   ],
   "source": [
    "## Test1.1/Test1.2\n",
    "df = pd.read_csv(\"../testfiles/data/test1.csv\")\n",
    "df_clean = df.dropna()\n",
    "cov_matrix = df_clean.cov()\n",
    "print('Covariance_skip')\n",
    "print(cov_matrix)\n",
    "corr_matrix = df_clean.corr()\n",
    "print('Correlation_skip')\n",
    "print(corr_matrix)"
   ]
  },
  {
   "cell_type": "code",
   "execution_count": 3,
   "id": "ee9dcce6",
   "metadata": {},
   "outputs": [
    {
     "name": "stdout",
     "output_type": "stream",
     "text": [
      "Covariance_pw\n",
      "          x1        x2        x3        x4        x5\n",
      "x1  1.173986 -0.629631 -0.278932 -0.081448 -0.735140\n",
      "x2 -0.629631  1.318197  0.018090  0.446047  0.139309\n",
      "x3 -0.278932  0.018090  0.918102  0.360836  0.258613\n",
      "x4 -0.081448  0.446047  0.360836  0.894764 -0.235190\n",
      "x5 -0.735140  0.139309  0.258613 -0.235190  0.522607\n",
      "Correlation_pw\n",
      "          x1        x2        x3        x4        x5\n",
      "x1  1.000000 -0.483199 -0.241787 -0.067767 -0.714761\n",
      "x2 -0.483199  1.000000  0.015446  0.405660  0.178286\n",
      "x3 -0.241787  0.015446  1.000000  0.488250  0.336248\n",
      "x4 -0.067767  0.405660  0.488250  1.000000 -0.322136\n",
      "x5 -0.714761  0.178286  0.336248 -0.322136  1.000000\n"
     ]
    }
   ],
   "source": [
    "## Test1.3/Test1.4\n",
    "def pairwise_cov_corr(df):\n",
    "    cols = df.columns\n",
    "    n = len(cols)\n",
    "    cov = pd.DataFrame(index=cols, columns=cols, dtype=float)\n",
    "    corr = pd.DataFrame(index=cols, columns=cols, dtype=float)\n",
    "    \n",
    "    for i in range(n):\n",
    "        for j in range(n):\n",
    "            x = df.iloc[:, i]\n",
    "            y = df.iloc[:, j]\n",
    "            valid = x.notna() & y.notna()\n",
    "            if valid.sum() > 1:\n",
    "                cov.iloc[i, j] = x[valid].cov(y[valid])\n",
    "                corr.iloc[i, j] = x[valid].corr(y[valid], method=\"pearson\")\n",
    "            else:\n",
    "                cov.iloc[i, j] = None \n",
    "                corr.iloc[i, j] = None\n",
    "    return cov,corr\n",
    "\n",
    "# 用法\n",
    "df = pd.read_csv(\"../testfiles/data/test1.csv\")\n",
    "cov_matrix, corr_matrix = pairwise_cov_corr(df)\n",
    "print('Covariance_pw')\n",
    "print(cov_matrix)\n",
    "print('Correlation_pw')\n",
    "print(corr_matrix)"
   ]
  },
  {
   "cell_type": "code",
   "execution_count": null,
   "id": "b59a230d",
   "metadata": {},
   "outputs": [],
   "source": []
  }
 ],
 "metadata": {
  "kernelspec": {
   "display_name": "Fintech545",
   "language": "python",
   "name": "python3"
  },
  "language_info": {
   "codemirror_mode": {
    "name": "ipython",
    "version": 3
   },
   "file_extension": ".py",
   "mimetype": "text/x-python",
   "name": "python",
   "nbconvert_exporter": "python",
   "pygments_lexer": "ipython3",
   "version": "3.13.2"
  }
 },
 "nbformat": 4,
 "nbformat_minor": 5
}
