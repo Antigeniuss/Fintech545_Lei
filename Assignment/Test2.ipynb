{
 "cells": [
  {
   "cell_type": "code",
   "execution_count": null,
   "id": "81075d2b",
   "metadata": {},
   "outputs": [],
   "source": [
    "import numpy as np\n",
    "import pandas as pd\n",
    "\n",
    "def ew_cov_corr_normalized(df: pd.DataFrame, lam: float = 0.97, window: int | None = None):\n",
    "    X = df.to_numpy(copy=False)\n",
    "    if window is not None:\n",
    "        X = X[-window:, :]\n",
    "    n, k = X.shape\n",
    "\n",
    "    # normalized weights: newest obs has exponent 0\n",
    "    exponents = np.arange(n-1, -1, -1, dtype=float)\n",
    "    w_raw = (1.0 - lam) * (lam ** exponents)\n",
    "    w = w_raw / w_raw.sum()\n",
    "    w = w.reshape(-1, 1)\n",
    "\n",
    "    # mean over the same window (can switch to simple mean if needed)\n",
    "    mu = (w.T @ X) / w.sum()\n",
    "    # mu = X.mean(axis=0, keepdims=True)   # simple mean alternative\n",
    "\n",
    "    XC = X - mu\n",
    "    cov = (XC.T * w.ravel()) @ XC\n",
    "\n",
    "    std = np.sqrt(np.diag(cov))\n",
    "    denom = np.outer(std, std)\n",
    "    with np.errstate(invalid=\"ignore\", divide=\"ignore\"):\n",
    "        corr = cov / denom\n",
    "    corr[np.isnan(corr)] = 0.0\n",
    "\n",
    "    cov_df = pd.DataFrame(cov, index=df.columns, columns=df.columns)\n",
    "    corr_df = pd.DataFrame(corr, index=df.columns, columns=df.columns)\n",
    "    return cov_df, corr_df"
   ]
  },
  {
   "cell_type": "code",
   "execution_count": 2,
   "id": "38968024",
   "metadata": {},
   "outputs": [],
   "source": [
    "def ew_covariance_21(df: pd.DataFrame, lam: float = 0.97, window: int | None = None) -> pd.DataFrame:\n",
    "    \"\"\"2.1: EW Covariance with lambda=lam (uses your normalized version).\"\"\"\n",
    "    cov, _ = ew_cov_corr_normalized(df, lam=lam, window=window)\n",
    "    return cov\n",
    "\n",
    "def ew_correlation_22(df: pd.DataFrame, lam: float = 0.94, window: int | None = None) -> pd.DataFrame:\n",
    "    \"\"\"2.2: EW Correlation with lambda=lam (uses your normalized version).\"\"\"\n",
    "    _, corr = ew_cov_corr_normalized(df, lam=lam, window=window)\n",
    "    return corr\n",
    "\n",
    "def covariance_23(df: pd.DataFrame,\n",
    "                  lam_var: float = 0.97,\n",
    "                  lam_corr: float = 0.94,\n",
    "                  window: int | None = None) -> pd.DataFrame:\n",
    "    \"\"\"\n",
    "    2.3: Covariance with EW Variance (lam_var) and EW Correlation (lam_corr):\n",
    "         Σ = D * R * D, where D = diag(EW std with lam_var), R = EW corr with lam_corr.\n",
    "    \"\"\"\n",
    "    # EW variance (from EW covariance with lam_var)\n",
    "    cov_var = ew_covariance_21(df, lam=lam_var, window=window)\n",
    "    std = np.sqrt(np.diag(cov_var))\n",
    "    D = np.diag(std)\n",
    "\n",
    "    # EW correlation with lam_corr\n",
    "    R = ew_correlation_22(df, lam=lam_corr, window=window).values\n",
    "\n",
    "    Sigma = D @ R @ D\n",
    "    return pd.DataFrame(Sigma, index=df.columns, columns=df.columns)"
   ]
  },
  {
   "cell_type": "code",
   "execution_count": 3,
   "id": "7aa817fe",
   "metadata": {},
   "outputs": [],
   "source": [
    "df = pd.read_csv(\"../testfiles/data/test2.csv\")   "
   ]
  },
  {
   "cell_type": "code",
   "execution_count": 4,
   "id": "c90db435",
   "metadata": {},
   "outputs": [
    {
     "name": "stdout",
     "output_type": "stream",
     "text": [
      "EW Covariance_lambda=0.97:\n",
      "          x1        x2        x3        x4        x5\n",
      "x1  0.848630  0.120043  0.179149  0.083942  0.055432\n",
      "x2  0.120043  1.079589  0.024682  0.115124 -0.429611\n",
      "x3  0.179149  0.024682  0.736457  0.133765  0.069033\n",
      "x4  0.083942  0.115124  0.133765  0.867932  0.112788\n",
      "x5  0.055432 -0.429611  0.069033  0.112788  1.137927\n"
     ]
    }
   ],
   "source": [
    "## Test2.1     \n",
    "cov_21  = ew_covariance_21(df, lam=0.97)\n",
    "print(\"EW Covariance_lambda=0.97:\")\n",
    "print(cov_21)"
   ]
  },
  {
   "cell_type": "code",
   "execution_count": 5,
   "id": "285ec4dc",
   "metadata": {},
   "outputs": [
    {
     "name": "stdout",
     "output_type": "stream",
     "text": [
      "EW Correlation_lambda=0.94:\n",
      "          x1        x2        x3        x4        x5\n",
      "x1  1.000000  0.084787  0.190100  0.129045  0.070706\n",
      "x2  0.084787  1.000000 -0.077432  0.202228 -0.442546\n",
      "x3  0.190100 -0.077432  1.000000  0.198267  0.102093\n",
      "x4  0.129045  0.202228  0.198267  1.000000  0.119541\n",
      "x5  0.070706 -0.442546  0.102093  0.119541  1.000000\n"
     ]
    }
   ],
   "source": [
    "## Test2.2    \n",
    "corr_22 = ew_correlation_22(df, lam=0.94)\n",
    "print(\"EW Correlation_lambda=0.94:\")\n",
    "print(corr_22)"
   ]
  },
  {
   "cell_type": "code",
   "execution_count": 6,
   "id": "fdc4fdbb",
   "metadata": {},
   "outputs": [
    {
     "name": "stdout",
     "output_type": "stream",
     "text": [
      "Covariance with EW Variance (l=0.97), EW Correlation (l=0.94)\n",
      "          x1        x2        x3        x4        x5\n",
      "x1  0.848630  0.081156  0.150285  0.110750  0.069482\n",
      "x2  0.081156  1.079589 -0.069043  0.195755 -0.490507\n",
      "x3  0.150285 -0.069043  0.736457  0.158514  0.093460\n",
      "x4  0.110750  0.195755  0.158514  0.867932  0.118800\n",
      "x5  0.069482 -0.490507  0.093460  0.118800  1.137927\n"
     ]
    }
   ],
   "source": [
    "## Test2.3\n",
    "cov_23  = covariance_23(df, lam_var=0.97, lam_corr=0.94)\n",
    "print(\"Covariance with EW Variance (l=0.97), EW Correlation (l=0.94)\")\n",
    "print(cov_23)"
   ]
  }
 ],
 "metadata": {
  "kernelspec": {
   "display_name": "Fintech545",
   "language": "python",
   "name": "python3"
  },
  "language_info": {
   "codemirror_mode": {
    "name": "ipython",
    "version": 3
   },
   "file_extension": ".py",
   "mimetype": "text/x-python",
   "name": "python",
   "nbconvert_exporter": "python",
   "pygments_lexer": "ipython3",
   "version": "3.13.2"
  }
 },
 "nbformat": 4,
 "nbformat_minor": 5
}
