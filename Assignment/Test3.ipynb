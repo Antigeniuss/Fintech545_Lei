{
 "cells": [
  {
   "cell_type": "code",
   "execution_count": 1,
   "id": "eaeacf3d",
   "metadata": {},
   "outputs": [],
   "source": [
    "import Utils\n",
    "import pandas as pd"
   ]
  },
  {
   "cell_type": "code",
   "execution_count": 2,
   "id": "8169ff73",
   "metadata": {},
   "outputs": [],
   "source": [
    "cov_df = pd.read_csv(\"../testfiles/data/testout_1.3.csv\")   \n",
    "corr_df = pd.read_csv(\"../testfiles/data/testout_1.4.csv\")   "
   ]
  },
  {
   "cell_type": "code",
   "execution_count": 3,
   "id": "1b93acea",
   "metadata": {},
   "outputs": [
    {
     "name": "stdout",
     "output_type": "stream",
     "text": [
      "\n",
      "near_psd COV:\n",
      "         x1        x2        x3        x4        x5\n",
      "0  1.173986 -0.617989 -0.284559 -0.065152 -0.688287\n",
      "1 -0.617989  1.318197  0.017092  0.445696  0.139176\n",
      "2 -0.284559  0.017092  0.918102  0.354147  0.246056\n",
      "3 -0.065152  0.445696  0.354147  0.894764 -0.218717\n",
      "4 -0.688287  0.139176  0.246056 -0.218717  0.522607\n"
     ]
    }
   ],
   "source": [
    "## Test3.1\n",
    "print(\"\\nnear_psd COV:\")\n",
    "print(Utils.near_psd_covariance(cov_df))"
   ]
  },
  {
   "cell_type": "code",
   "execution_count": 4,
   "id": "2070e302",
   "metadata": {},
   "outputs": [
    {
     "name": "stdout",
     "output_type": "stream",
     "text": [
      "near_psd CORR:\n",
      "         x1        x2        x3        x4        x5\n",
      "0  1.000000 -0.483199 -0.241787 -0.067767 -0.714761\n",
      "1 -0.483199  1.000000  0.015446  0.405660  0.178286\n",
      "2 -0.241787  0.015446  1.000000  0.488250  0.336248\n",
      "3 -0.067767  0.405660  0.488250  1.000000 -0.322136\n",
      "4 -0.714761  0.178286  0.336248 -0.322136  1.000000\n"
     ]
    }
   ],
   "source": [
    "## Test3.2\n",
    "print(\"near_psd CORR:\")\n",
    "print(Utils.near_psd_correlation(corr_df))"
   ]
  },
  {
   "cell_type": "code",
   "execution_count": 5,
   "id": "80c32b24",
   "metadata": {},
   "outputs": [
    {
     "name": "stdout",
     "output_type": "stream",
     "text": [
      "\n",
      "Higham COV:\n",
      "         x1        x2        x3        x4        x5\n",
      "0  1.173986 -0.624301 -0.294868 -0.057170 -0.694612\n",
      "1 -0.624301  1.318197  0.016488  0.448489  0.143391\n",
      "2 -0.294868  0.016488  0.918102  0.353517  0.246406\n",
      "3 -0.057170  0.448489  0.353517  0.894764 -0.216594\n",
      "4 -0.694612  0.143391  0.246406 -0.216594  0.522607\n"
     ]
    }
   ],
   "source": [
    "## Test3.3\n",
    "print(\"\\nHigham COV:\")\n",
    "print(Utils.higham_covariance(cov_df))"
   ]
  },
  {
   "cell_type": "code",
   "execution_count": 6,
   "id": "8a32e929",
   "metadata": {},
   "outputs": [
    {
     "name": "stdout",
     "output_type": "stream",
     "text": [
      "\n",
      "Higham CORR:\n",
      "         x1        x2        x3        x4        x5\n",
      "0  1.000000 -0.483199 -0.241787 -0.067767 -0.714761\n",
      "1 -0.483199  1.000000  0.015446  0.405660  0.178286\n",
      "2 -0.241787  0.015446  1.000000  0.488250  0.336248\n",
      "3 -0.067767  0.405660  0.488250  1.000000 -0.322136\n",
      "4 -0.714761  0.178286  0.336248 -0.322136  1.000000\n"
     ]
    }
   ],
   "source": [
    "## Test3.4\n",
    "print(\"\\nHigham CORR:\")\n",
    "print(Utils.higham_correlation(corr_df))"
   ]
  }
 ],
 "metadata": {
  "kernelspec": {
   "display_name": "Fintech545",
   "language": "python",
   "name": "python3"
  },
  "language_info": {
   "codemirror_mode": {
    "name": "ipython",
    "version": 3
   },
   "file_extension": ".py",
   "mimetype": "text/x-python",
   "name": "python",
   "nbconvert_exporter": "python",
   "pygments_lexer": "ipython3",
   "version": "3.13.2"
  }
 },
 "nbformat": 4,
 "nbformat_minor": 5
}
