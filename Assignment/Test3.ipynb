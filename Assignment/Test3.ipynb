{
 "cells": [
  {
   "cell_type": "code",
   "execution_count": 1,
   "id": "eaeacf3d",
   "metadata": {},
   "outputs": [],
   "source": [
    "import numpy as np\n",
    "import pandas as pd\n",
    "\n",
    "# ---------- helpers ----------\n",
    "def _symm(A: np.ndarray) -> np.ndarray:\n",
    "    return 0.5 * (A + A.T)\n",
    "\n",
    "def _to_corr_from_cov(S: np.ndarray):\n",
    "    std = np.sqrt(np.diag(S))\n",
    "    std = np.where(std <= 0.0, 1.0, std)\n",
    "    D_inv = np.diag(1.0 / std)\n",
    "    R = D_inv @ S @ D_inv\n",
    "    return R, std\n",
    "\n",
    "def _to_cov_from_corr(R: np.ndarray, std: np.ndarray):\n",
    "    D = np.diag(std)\n",
    "    return D @ R @ D\n",
    "\n",
    "# ---------- Rebonato–Jäckel (near-PSD) ----------\n",
    "def near_psd_correlation(R_df: pd.DataFrame, eps: float = 0.0) -> pd.DataFrame:\n",
    "    C = _symm(R_df.values)\n",
    "    eigvals, S = np.linalg.eigh(C)\n",
    "    lam_p = np.maximum(eigvals, eps)           # clip eigenvalues\n",
    "\n",
    "    # scaling t_i = 1 / sum_j S_{ij}^2 * lam'_j\n",
    "    Si2 = S**2\n",
    "    denom = Si2 @ lam_p\n",
    "    denom = np.where(denom <= 0, 1.0, denom)\n",
    "    t = 1.0 / denom\n",
    "\n",
    "    # B = sqrt(T) S sqrt(Lam')\n",
    "    B = (np.sqrt(t)[:, None]) * S * (np.sqrt(lam_p)[None, :])\n",
    "    C_hat = _symm(B @ B.T)\n",
    "\n",
    "    # normalize to diag=1\n",
    "    d = np.sqrt(np.diag(C_hat))\n",
    "    C_hat = C_hat / np.outer(d, d)\n",
    "    np.fill_diagonal(C_hat, 1.0)\n",
    "\n",
    "    return pd.DataFrame(C_hat, index=R_df.index, columns=R_df.columns)\n",
    "\n",
    "def near_psd_covariance(S_df: pd.DataFrame, eps: float = 0.0) -> pd.DataFrame:\n",
    "    S = _symm(S_df.values)\n",
    "    R, std = _to_corr_from_cov(S)\n",
    "    R_psd = near_psd_correlation(pd.DataFrame(R, index=S_df.index, columns=S_df.columns), eps=eps).values\n",
    "    S_psd = _to_cov_from_corr(R_psd, std)\n",
    "    return pd.DataFrame(_symm(S_psd), index=S_df.index, columns=S_df.columns)\n",
    "\n",
    "# ---------- Higham (nearest correlation) ----------\n",
    "def higham_correlation(R_df: pd.DataFrame, tol: float = 1e-8, max_iter: int = 200) -> pd.DataFrame:\n",
    "    X = _symm(R_df.values.copy())\n",
    "    for _ in range(max_iter):\n",
    "        # PSD projection\n",
    "        w, V = np.linalg.eigh(_symm(X))\n",
    "        w = np.maximum(w, 0.0)\n",
    "        X_psd = V @ np.diag(w) @ V.T\n",
    "        # set diag=1\n",
    "        np.fill_diagonal(X_psd, 1.0)\n",
    "        if np.linalg.norm(X_psd - X, ord='fro') < tol:\n",
    "            X = X_psd\n",
    "            break\n",
    "        X = X_psd\n",
    "    return pd.DataFrame(X, index=R_df.index, columns=R_df.columns)\n",
    "\n",
    "def higham_covariance(S_df: pd.DataFrame, tol: float = 1e-8, max_iter: int = 200) -> pd.DataFrame:\n",
    "    S = _symm(S_df.values)\n",
    "    R, std = _to_corr_from_cov(S)\n",
    "    R_h = higham_correlation(pd.DataFrame(R, index=S_df.index, columns=S_df.columns),\n",
    "                             tol=tol, max_iter=max_iter).values\n",
    "    S_h = _to_cov_from_corr(R_h, std)\n",
    "    return pd.DataFrame(_symm(S_h), index=S_df.index, columns=S_df.columns)"
   ]
  },
  {
   "cell_type": "code",
   "execution_count": 2,
   "id": "8169ff73",
   "metadata": {},
   "outputs": [],
   "source": [
    "cov_df = pd.read_csv(\"../testfiles/data/testout_1.3.csv\")   \n",
    "corr_df = pd.read_csv(\"../testfiles/data/testout_1.4.csv\")   "
   ]
  },
  {
   "cell_type": "code",
   "execution_count": 3,
   "id": "1b93acea",
   "metadata": {},
   "outputs": [
    {
     "name": "stdout",
     "output_type": "stream",
     "text": [
      "\n",
      "near_psd COV:\n",
      "         x1        x2        x3        x4        x5\n",
      "0  1.173986 -0.617989 -0.284559 -0.065152 -0.688287\n",
      "1 -0.617989  1.318197  0.017092  0.445696  0.139176\n",
      "2 -0.284559  0.017092  0.918102  0.354147  0.246056\n",
      "3 -0.065152  0.445696  0.354147  0.894764 -0.218717\n",
      "4 -0.688287  0.139176  0.246056 -0.218717  0.522607\n"
     ]
    }
   ],
   "source": [
    "## Test3.1\n",
    "print(\"\\nnear_psd COV:\")\n",
    "print(near_psd_covariance(cov_df))"
   ]
  },
  {
   "cell_type": "code",
   "execution_count": 4,
   "id": "2070e302",
   "metadata": {},
   "outputs": [
    {
     "name": "stdout",
     "output_type": "stream",
     "text": [
      "near_psd CORR:\n",
      "         x1        x2        x3        x4        x5\n",
      "0  1.000000 -0.483199 -0.241787 -0.067767 -0.714761\n",
      "1 -0.483199  1.000000  0.015446  0.405660  0.178286\n",
      "2 -0.241787  0.015446  1.000000  0.488250  0.336248\n",
      "3 -0.067767  0.405660  0.488250  1.000000 -0.322136\n",
      "4 -0.714761  0.178286  0.336248 -0.322136  1.000000\n"
     ]
    }
   ],
   "source": [
    "## Test3.2\n",
    "print(\"near_psd CORR:\")\n",
    "print(near_psd_correlation(corr_df))"
   ]
  },
  {
   "cell_type": "code",
   "execution_count": 5,
   "id": "80c32b24",
   "metadata": {},
   "outputs": [
    {
     "name": "stdout",
     "output_type": "stream",
     "text": [
      "\n",
      "Higham COV:\n",
      "         x1        x2        x3        x4        x5\n",
      "0  1.173986 -0.624301 -0.294868 -0.057170 -0.694612\n",
      "1 -0.624301  1.318197  0.016488  0.448489  0.143391\n",
      "2 -0.294868  0.016488  0.918102  0.353517  0.246406\n",
      "3 -0.057170  0.448489  0.353517  0.894764 -0.216594\n",
      "4 -0.694612  0.143391  0.246406 -0.216594  0.522607\n"
     ]
    }
   ],
   "source": [
    "## Test3.3\n",
    "print(\"\\nHigham COV:\")\n",
    "print(higham_covariance(cov_df))"
   ]
  },
  {
   "cell_type": "code",
   "execution_count": 6,
   "id": "8a32e929",
   "metadata": {},
   "outputs": [
    {
     "name": "stdout",
     "output_type": "stream",
     "text": [
      "\n",
      "Higham CORR:\n",
      "         x1        x2        x3        x4        x5\n",
      "0  1.000000 -0.483199 -0.241787 -0.067767 -0.714761\n",
      "1 -0.483199  1.000000  0.015446  0.405660  0.178286\n",
      "2 -0.241787  0.015446  1.000000  0.488250  0.336248\n",
      "3 -0.067767  0.405660  0.488250  1.000000 -0.322136\n",
      "4 -0.714761  0.178286  0.336248 -0.322136  1.000000\n"
     ]
    }
   ],
   "source": [
    "## Test3.4\n",
    "print(\"\\nHigham CORR:\")\n",
    "print(higham_correlation(corr_df))"
   ]
  }
 ],
 "metadata": {
  "kernelspec": {
   "display_name": "Fintech545",
   "language": "python",
   "name": "python3"
  },
  "language_info": {
   "codemirror_mode": {
    "name": "ipython",
    "version": 3
   },
   "file_extension": ".py",
   "mimetype": "text/x-python",
   "name": "python",
   "nbconvert_exporter": "python",
   "pygments_lexer": "ipython3",
   "version": "3.13.2"
  }
 },
 "nbformat": 4,
 "nbformat_minor": 5
}
