{
 "cells": [
  {
   "cell_type": "code",
   "execution_count": null,
   "id": "2f136410",
   "metadata": {},
   "outputs": [],
   "source": [
    "import numpy as np\n",
    "import pandas as pd\n",
    "\n",
    "def chol_psd_lower(A, tol=1e-12):\n",
    "    A = np.asarray(A, dtype=float)\n",
    "    A = 0.5 * (A + A.T)          # symmetrize\n",
    "    n = A.shape[0]\n",
    "    L = np.zeros_like(A)\n",
    "\n",
    "    for j in range(n):\n",
    "        # diagonal element\n",
    "        s = A[j, j] - np.dot(L[j, :j], L[j, :j])\n",
    "        if s <= tol:\n",
    "            L[j, j] = 0.0\n",
    "            L[j+1:, j] = 0.0\n",
    "            continue\n",
    "        L[j, j] = np.sqrt(s)\n",
    "        inv = 1.0 / L[j, j]\n",
    "\n",
    "        # subdiagonal elements\n",
    "        for i in range(j+1, n):\n",
    "            s = A[i, j] - np.dot(L[i, :j], L[j, :j])\n",
    "            v = s * inv\n",
    "            if abs(v) <= tol:\n",
    "                v = 0.0\n",
    "            L[i, j] = v\n",
    "\n",
    "    return L"
   ]
  },
  {
   "cell_type": "code",
   "execution_count": 7,
   "id": "853cd680",
   "metadata": {},
   "outputs": [
    {
     "data": {
      "text/plain": [
       "array([[ 1.08350627,  0.        ,  0.        ,  0.        ,  0.        ],\n",
       "       [-0.57036003,  0.99643702,  0.        ,  0.        ,  0.        ],\n",
       "       [-0.26262792, -0.13317501,  0.91180746,  0.        ,  0.        ],\n",
       "       [-0.06013027,  0.4128707 ,  0.43138365,  0.73115953,  0.        ],\n",
       "       [-0.63524033, -0.22393764,  0.05417906, -0.25689219,  0.        ]])"
      ]
     },
     "execution_count": 7,
     "metadata": {},
     "output_type": "execute_result"
    }
   ],
   "source": [
    "A = pd.read_csv(\"../testfiles/data/testout_3.1.csv\")   \n",
    "chol_psd_lower(A)"
   ]
  },
  {
   "cell_type": "code",
   "execution_count": null,
   "id": "41d10943",
   "metadata": {},
   "outputs": [],
   "source": []
  }
 ],
 "metadata": {
  "kernelspec": {
   "display_name": "Fintech545",
   "language": "python",
   "name": "python3"
  },
  "language_info": {
   "codemirror_mode": {
    "name": "ipython",
    "version": 3
   },
   "file_extension": ".py",
   "mimetype": "text/x-python",
   "name": "python",
   "nbconvert_exporter": "python",
   "pygments_lexer": "ipython3",
   "version": "3.13.2"
  }
 },
 "nbformat": 4,
 "nbformat_minor": 5
}
