{
 "cells": [
  {
   "cell_type": "code",
   "execution_count": 1,
   "id": "88838f08",
   "metadata": {},
   "outputs": [],
   "source": [
    "import Utils\n",
    "import pandas as pd\n",
    "import numpy as np"
   ]
  },
  {
   "cell_type": "code",
   "execution_count": 2,
   "id": "d78c8a99",
   "metadata": {},
   "outputs": [
    {
     "name": "stdout",
     "output_type": "stream",
     "text": [
      "Original covariance:\n",
      "         x1        x2        x3        x4        x5\n",
      "0  0.084979  0.087586  0.042304  0.008984  0.003876\n",
      "1  0.087586  0.160485  0.058136  0.012345  0.005326\n",
      "2  0.042304  0.058136  0.037440  0.005963  0.002573\n",
      "3  0.008984  0.012345  0.005963  0.001688  0.000546\n",
      "4  0.003876  0.005326  0.002573  0.000546  0.000314\n",
      "\n",
      "Simulated covariance:\n",
      "[[0.08507753 0.0880556  0.04251527 0.00900926 0.00388666]\n",
      " [0.0880556  0.16149404 0.05862977 0.01240569 0.00535507]\n",
      " [0.04251527 0.05862977 0.03767327 0.0059906  0.00259182]\n",
      " [0.00900926 0.01240569 0.0059906  0.00169218 0.00054818]\n",
      " [0.00388666 0.00535507 0.00259182 0.00054818 0.0003155 ]]\n"
     ]
    }
   ],
   "source": [
    "# 5.1\n",
    "cov_original = pd.read_csv(\"../testfiles/data/test5_1.csv\")\n",
    "X = Utils.simulate_multivariate_normal(0, cov_original, n_samples=100000, seed=42)\n",
    "cov_simulation = Utils.calculate_cov(X)\n",
    "\n",
    "print(\"Original covariance:\")\n",
    "print(cov_original)\n",
    "print(\"\\nSimulated covariance:\")\n",
    "print(cov_simulation)\n"
   ]
  },
  {
   "cell_type": "code",
   "execution_count": 3,
   "id": "45ec76f2",
   "metadata": {},
   "outputs": [
    {
     "name": "stdout",
     "output_type": "stream",
     "text": [
      "Original covariance:\n",
      "         x1        x2        x3        x4        x5\n",
      "0  0.084979  0.116781  0.042304  0.008984  0.003876\n",
      "1  0.116781  0.160485  0.058136  0.012345  0.005326\n",
      "2  0.042304  0.058136  0.037440  0.005963  0.002573\n",
      "3  0.008984  0.012345  0.005963  0.001688  0.000546\n",
      "4  0.003876  0.005326  0.002573  0.000546  0.000314\n",
      "\n",
      "Simulated covariance:\n",
      "[[0.0851635  0.11703456 0.04238639 0.00903489 0.00389092]\n",
      " [0.11703456 0.16083284 0.05824881 0.01241605 0.00534704]\n",
      " [0.04238639 0.05824881 0.03750026 0.00598459 0.00258326]\n",
      " [0.00903489 0.01241605 0.00598459 0.00169724 0.00054908]\n",
      " [0.00389092 0.00534704 0.00258326 0.00054908 0.00031558]]\n"
     ]
    }
   ],
   "source": [
    "# 5.2\n",
    "cov_original = pd.read_csv(\"../testfiles/data/test5_2.csv\")\n",
    "X = Utils.simulate_multivariate_normal(0, cov_original, n_samples=100000, seed=42)\n",
    "cov_simulation = Utils.calculate_cov(X)\n",
    "\n",
    "print(\"Original covariance:\")\n",
    "print(cov_original)\n",
    "print(\"\\nSimulated covariance:\")\n",
    "print(cov_simulation)\n"
   ]
  },
  {
   "cell_type": "code",
   "execution_count": 4,
   "id": "4c34dd81",
   "metadata": {},
   "outputs": [
    {
     "name": "stdout",
     "output_type": "stream",
     "text": [
      "Original covariance:\n",
      "         x1        x2        x3        x4        x5\n",
      "0  0.084979  0.000000  0.042304  0.008984  0.003876\n",
      "1  0.000000  0.160485  0.058136  0.012345  0.005326\n",
      "2  0.042304  0.058136  0.037440  0.005963  0.002573\n",
      "3  0.008984  0.012345  0.005963  0.001688  0.000546\n",
      "4  0.003876  0.005326  0.002573  0.000546  0.000314\n",
      "\n",
      "Simulated covariance:\n",
      "[[0.08516917 0.0088402  0.0378803  0.00807575 0.00347576]\n",
      " [0.0088402  0.16085952 0.05203732 0.01108068 0.00478703]\n",
      " [0.0378803  0.05203732 0.03740963 0.00602335 0.00259896]\n",
      " [0.00807575 0.01108068 0.00602335 0.00169729 0.00055357]\n",
      " [0.00347576 0.00478703 0.00259896 0.00055357 0.00031548]]\n"
     ]
    }
   ],
   "source": [
    "# 5.3\n",
    "cov_original = pd.read_csv(\"../testfiles/data/test5_3.csv\")\n",
    "cov_near_psd = Utils.near_psd_covariance(cov_original)\n",
    "X = Utils.simulate_multivariate_normal(0, cov_near_psd, n_samples=100000, seed=42)\n",
    "cov_simulation = Utils.calculate_cov(X)\n",
    "\n",
    "print(\"Original covariance:\")\n",
    "print(cov_original)\n",
    "print(\"\\nSimulated covariance:\")\n",
    "print(cov_simulation)"
   ]
  },
  {
   "cell_type": "code",
   "execution_count": 5,
   "id": "bbf7914b",
   "metadata": {},
   "outputs": [
    {
     "name": "stdout",
     "output_type": "stream",
     "text": [
      "Original covariance:\n",
      "         x1        x2        x3        x4        x5\n",
      "0  0.084979  0.000000  0.042304  0.008984  0.003876\n",
      "1  0.000000  0.160485  0.058136  0.012345  0.005326\n",
      "2  0.042304  0.058136  0.037440  0.005963  0.002573\n",
      "3  0.008984  0.012345  0.005963  0.001688  0.000546\n",
      "4  0.003876  0.005326  0.002573  0.000546  0.000314\n",
      "\n",
      "Simulated covariance:\n",
      "[[0.08517333 0.01309177 0.0389312  0.00829819 0.00357258]\n",
      " [0.01309177 0.16085237 0.05348644 0.01138586 0.00491861]\n",
      " [0.0389312  0.05348644 0.03741521 0.00623975 0.00269247]\n",
      " [0.00829819 0.01138586 0.00623975 0.00169693 0.00057336]\n",
      " [0.00357258 0.00491861 0.00269247 0.00057336 0.00031549]]\n"
     ]
    }
   ],
   "source": [
    "# 5.4\n",
    "cov_original = pd.read_csv(\"../testfiles/data/test5_3.csv\")\n",
    "cov_higham = Utils.higham_covariance(cov_original)\n",
    "X = Utils.simulate_multivariate_normal(0, cov_higham, n_samples=100000, seed=42)\n",
    "cov_simulation = Utils.calculate_cov(X)\n",
    "\n",
    "print(\"Original covariance:\")\n",
    "print(cov_original)\n",
    "print(\"\\nSimulated covariance:\")\n",
    "print(cov_simulation)"
   ]
  },
  {
   "cell_type": "code",
   "execution_count": 6,
   "id": "3a7af202",
   "metadata": {},
   "outputs": [
    {
     "name": "stdout",
     "output_type": "stream",
     "text": [
      "Original covariance:\n",
      "         x1        x2        x3        x4        x5\n",
      "0  0.084979  0.116781  0.042304  0.008984  0.003876\n",
      "1  0.116781  0.160485  0.058136  0.012345  0.005326\n",
      "2  0.042304  0.058136  0.037440  0.005963  0.002573\n",
      "3  0.008984  0.012345  0.005963  0.001688  0.000546\n",
      "4  0.003876  0.005326  0.002573  0.000546  0.000314\n",
      "\n",
      "Simulated covariance:\n",
      "[[0.08516466 0.11703615 0.0423887  0.00901528 0.00388666]\n",
      " [0.11703615 0.16083504 0.05825198 0.01238911 0.00534118]\n",
      " [0.0423887  0.05825198 0.03749684 0.0060325  0.00258884]\n",
      " [0.00901528 0.01238911 0.0060325  0.00109996 0.00047309]\n",
      " [0.00388666 0.00534118 0.00258884 0.00047309 0.00020349]]\n"
     ]
    }
   ],
   "source": [
    "# 5.5\n",
    "cov_original = pd.read_csv(\"../testfiles/data/test5_2.csv\")\n",
    "cov_pca, k, cum = Utils.pca_covariance(cov_original, threshold=0.99)\n",
    "X = Utils.simulate_multivariate_normal(0, cov_pca.values, n_samples=100000, seed=42)\n",
    "cov_simulation = Utils.calculate_cov(X)\n",
    "\n",
    "print(\"Original covariance:\")\n",
    "print(cov_original)\n",
    "print(\"\\nSimulated covariance:\")\n",
    "print(cov_simulation)"
   ]
  }
 ],
 "metadata": {
  "kernelspec": {
   "display_name": "Fintech545",
   "language": "python",
   "name": "python3"
  },
  "language_info": {
   "codemirror_mode": {
    "name": "ipython",
    "version": 3
   },
   "file_extension": ".py",
   "mimetype": "text/x-python",
   "name": "python",
   "nbconvert_exporter": "python",
   "pygments_lexer": "ipython3",
   "version": "3.13.2"
  }
 },
 "nbformat": 4,
 "nbformat_minor": 5
}
