{
 "cells": [
  {
   "cell_type": "code",
   "execution_count": 1,
   "id": "4bd2956b",
   "metadata": {},
   "outputs": [],
   "source": [
    "import numpy as np\n",
    "import pandas as pd\n",
    "\n",
    "def fit_normal(data):\n",
    "    data = np.asarray(data).ravel()\n",
    "    mu = data.mean()\n",
    "    sigma = data.std(ddof=1) \n",
    "    return mu, sigma"
   ]
  },
  {
   "cell_type": "code",
   "execution_count": 2,
   "id": "3febd1a6",
   "metadata": {},
   "outputs": [
    {
     "name": "stdout",
     "output_type": "stream",
     "text": [
      "Estimated mu = 0.04602573645286826\n",
      "Estimated sigma = 0.04677993956391965\n"
     ]
    }
   ],
   "source": [
    "data = pd.read_csv('../testfiles/data/test7_1.csv')\n",
    "mu,sigma = fit_normal(data)\n",
    "\n",
    "print(\"Estimated mu =\", mu)\n",
    "print(\"Estimated sigma =\", sigma)"
   ]
  }
 ],
 "metadata": {
  "kernelspec": {
   "display_name": "Fintech545",
   "language": "python",
   "name": "python3"
  },
  "language_info": {
   "codemirror_mode": {
    "name": "ipython",
    "version": 3
   },
   "file_extension": ".py",
   "mimetype": "text/x-python",
   "name": "python",
   "nbconvert_exporter": "python",
   "pygments_lexer": "ipython3",
   "version": "3.13.2"
  }
 },
 "nbformat": 4,
 "nbformat_minor": 5
}
