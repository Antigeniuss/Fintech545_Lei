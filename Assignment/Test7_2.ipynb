{
 "cells": [
  {
   "cell_type": "code",
   "execution_count": 1,
   "id": "ea0b76bc",
   "metadata": {},
   "outputs": [
    {
     "name": "stdout",
     "output_type": "stream",
     "text": [
      "Estimated mu = 0.04594038004735414\n",
      "Estimated sigma = 0.04544287220830122\n",
      "Estimated nu = 6.336866997308613\n"
     ]
    }
   ],
   "source": [
    "import pandas as pd\n",
    "import numpy as np\n",
    "from scipy.stats import t\n",
    "\n",
    "data = pd.read_csv('../testfiles/data/test7_2.csv')\n",
    "\n",
    "nu, mu, sigma = t.fit(data)\n",
    "\n",
    "print(\"Estimated mu =\", mu)\n",
    "print(\"Estimated sigma =\", sigma)\n",
    "print(\"Estimated nu =\", nu)"
   ]
  },
  {
   "cell_type": "code",
   "execution_count": null,
   "id": "efa9a432",
   "metadata": {},
   "outputs": [],
   "source": []
  }
 ],
 "metadata": {
  "kernelspec": {
   "display_name": "Fintech545",
   "language": "python",
   "name": "python3"
  },
  "language_info": {
   "codemirror_mode": {
    "name": "ipython",
    "version": 3
   },
   "file_extension": ".py",
   "mimetype": "text/x-python",
   "name": "python",
   "nbconvert_exporter": "python",
   "pygments_lexer": "ipython3",
   "version": "3.13.2"
  }
 },
 "nbformat": 4,
 "nbformat_minor": 5
}
