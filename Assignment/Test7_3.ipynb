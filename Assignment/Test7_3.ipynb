{
 "cells": [
  {
   "cell_type": "code",
   "execution_count": 1,
   "id": "d7ff0e55",
   "metadata": {},
   "outputs": [],
   "source": [
    "import numpy as np\n",
    "from scipy.optimize import minimize\n",
    "from scipy.stats import t\n",
    "\n",
    "def fit_t_regression(x1, x2, x3, y):\n",
    "    x1, x2, x3, y = map(lambda v: np.asarray(v).ravel(), (x1, x2, x3, y))\n",
    "    mask = np.isfinite(x1) & np.isfinite(x2) & np.isfinite(x3) & np.isfinite(y)\n",
    "    x1, x2, x3, y = x1[mask], x2[mask], x3[mask], y[mask]\n",
    "    n = y.size\n",
    "    X = np.column_stack([np.ones(n), x1, x2, x3])\n",
    "    beta0, *_ = np.linalg.lstsq(X, y, rcond=None)\n",
    "    resid0 = y - X @ beta0\n",
    "    scale0 = float(np.std(resid0, ddof=0)) or 1.0\n",
    "    init = np.hstack([10.0, beta0, scale0])\n",
    "    def negloglike(params):\n",
    "        df, beta, sc = params[0], params[1:-1], params[-1]\n",
    "        if df <= 1.0 or sc <= 0.0:\n",
    "            return np.inf\n",
    "        mu_i = X @ beta\n",
    "        return -np.sum(t.logpdf(y, df, loc=mu_i, scale=sc))\n",
    "    bounds = [(1.01, 200.0)] + [(None, None)]*4 + [(1e-8, None)]\n",
    "    res = minimize(negloglike, init, method=\"L-BFGS-B\", bounds=bounds)\n",
    "    df_hat   = float(res.x[0])\n",
    "    Alpha    = float(res.x[1])\n",
    "    B1, B2, B3 = map(float, res.x[2:5])\n",
    "    sigma    = float(res.x[-1])\n",
    "    mu_hat   = float(np.mean(X @ np.array([Alpha, B1, B2, B3])))\n",
    "    return mu_hat, sigma, df_hat, Alpha, B1, B2, B3"
   ]
  },
  {
   "cell_type": "code",
   "execution_count": 2,
   "id": "bafe2de6",
   "metadata": {},
   "outputs": [
    {
     "name": "stdout",
     "output_type": "stream",
     "text": [
      "Estimated mu = 0.02277627711878503\n",
      "Estimated sigma = 0.048548709805701556\n",
      "Estimated nu = 4.598341945488593\n",
      "Estimated Alpha = 0.04263498195098822\n",
      "Estimated B1 = 0.9748829859544208\n",
      "Estimated B2 = 2.041207299427949\n",
      "Estimated B3 = 3.1547914215993105\n"
     ]
    }
   ],
   "source": [
    "import pandas as pd\n",
    "\n",
    "data = pd.read_csv('../testfiles/data/test7_3.csv')\n",
    "mu, sigma, nu, Alpha, B1, B2, B3 = fit_t_regression(\n",
    "    data['x1'], data['x2'], data['x3'], data['y']\n",
    ")\n",
    "\n",
    "print(\"Estimated mu =\", mu)\n",
    "print(\"Estimated sigma =\", sigma)\n",
    "print(\"Estimated nu =\", nu)\n",
    "print(\"Estimated Alpha =\", Alpha)\n",
    "print(\"Estimated B1 =\", B1)\n",
    "print(\"Estimated B2 =\", B2)\n",
    "print(\"Estimated B3 =\", B3)"
   ]
  },
  {
   "cell_type": "code",
   "execution_count": null,
   "id": "1fffe877",
   "metadata": {},
   "outputs": [],
   "source": []
  }
 ],
 "metadata": {
  "kernelspec": {
   "display_name": "Fintech545",
   "language": "python",
   "name": "python3"
  },
  "language_info": {
   "codemirror_mode": {
    "name": "ipython",
    "version": 3
   },
   "file_extension": ".py",
   "mimetype": "text/x-python",
   "name": "python",
   "nbconvert_exporter": "python",
   "pygments_lexer": "ipython3",
   "version": "3.13.2"
  }
 },
 "nbformat": 4,
 "nbformat_minor": 5
}
