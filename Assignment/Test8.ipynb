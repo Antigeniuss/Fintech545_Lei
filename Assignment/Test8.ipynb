{
 "cells": [
  {
   "cell_type": "code",
   "execution_count": 1,
   "id": "f8a84da0",
   "metadata": {},
   "outputs": [],
   "source": [
    "import pandas as pd\n",
    "import Utils"
   ]
  },
  {
   "cell_type": "code",
   "execution_count": 2,
   "id": "a5b86145",
   "metadata": {},
   "outputs": [
    {
     "data": {
      "text/plain": [
       "{'VaR Absolute': np.float64(0.030920416807415675),\n",
       " 'VaR Diff from Mean': np.float64(0.07694615326028394)}"
      ]
     },
     "execution_count": 2,
     "metadata": {},
     "output_type": "execute_result"
    }
   ],
   "source": [
    "# 8.1\n",
    "returns = pd.read_csv('../testfiles/data/test7_1.csv')\n",
    "Utils.var_from_returns(returns = returns, dist = \"normal\")"
   ]
  },
  {
   "cell_type": "code",
   "execution_count": 3,
   "id": "7670be27",
   "metadata": {},
   "outputs": [
    {
     "name": "stdout",
     "output_type": "stream",
     "text": [
      "6.336866997308613\n"
     ]
    },
    {
     "data": {
      "text/plain": [
       "{'VaR Absolute': np.float64(0.04152970272060709),\n",
       " 'VaR Diff from Mean': np.float64(0.08747008276796123)}"
      ]
     },
     "execution_count": 3,
     "metadata": {},
     "output_type": "execute_result"
    }
   ],
   "source": [
    "# 8.2\n",
    "returns = pd.read_csv('../testfiles/data/test7_2.csv')\n",
    "Utils.var_from_returns(returns = returns, dist = \"t\")"
   ]
  },
  {
   "cell_type": "code",
   "execution_count": 4,
   "id": "35c4c8ce",
   "metadata": {},
   "outputs": [
    {
     "data": {
      "text/plain": [
       "{'VaR Absolute': np.float64(0.04144129572764914),\n",
       " 'VaR Diff from Mean': np.float64(0.0873005274421653)}"
      ]
     },
     "execution_count": 4,
     "metadata": {},
     "output_type": "execute_result"
    }
   ],
   "source": [
    "# 8.3\n",
    "returns = pd.read_csv('../testfiles/data/test7_2.csv')\n",
    "Utils.var_mc_t_from_returns(returns = returns)"
   ]
  }
 ],
 "metadata": {
  "kernelspec": {
   "display_name": "Fintech545",
   "language": "python",
   "name": "python3"
  },
  "language_info": {
   "codemirror_mode": {
    "name": "ipython",
    "version": 3
   },
   "file_extension": ".py",
   "mimetype": "text/x-python",
   "name": "python",
   "nbconvert_exporter": "python",
   "pygments_lexer": "ipython3",
   "version": "3.13.2"
  }
 },
 "nbformat": 4,
 "nbformat_minor": 5
}
