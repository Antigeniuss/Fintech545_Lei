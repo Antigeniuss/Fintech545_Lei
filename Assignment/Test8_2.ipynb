{
 "cells": [
  {
   "cell_type": "code",
   "execution_count": 1,
   "id": "09c7039f",
   "metadata": {},
   "outputs": [],
   "source": [
    "import pandas as pd\n",
    "import Utils"
   ]
  },
  {
   "cell_type": "code",
   "execution_count": 2,
   "id": "f37c6972",
   "metadata": {},
   "outputs": [
    {
     "data": {
      "text/plain": [
       "{'ES Absolute': np.float64(0.05046784402005212),\n",
       " 'ES Diff from Mean': np.float64(0.09649358047292038)}"
      ]
     },
     "execution_count": 2,
     "metadata": {},
     "output_type": "execute_result"
    }
   ],
   "source": [
    "# Test8.4\n",
    "returns = pd.read_csv('../testfiles/data/test7_1.csv')\n",
    "Utils.es_normal(returns)"
   ]
  },
  {
   "cell_type": "code",
   "execution_count": 3,
   "id": "e3bd18e9",
   "metadata": {},
   "outputs": [
    {
     "data": {
      "text/plain": [
       "{'ES Absolute': np.float64(0.07523208731006788),\n",
       " 'ES Diff from Mean': np.float64(0.12114099330403674)}"
      ]
     },
     "execution_count": 3,
     "metadata": {},
     "output_type": "execute_result"
    }
   ],
   "source": [
    "# Test8.5\n",
    "returns = pd.read_csv('../testfiles/data/test7_2.csv')\n",
    "Utils.es_t(returns)"
   ]
  },
  {
   "cell_type": "code",
   "execution_count": 4,
   "id": "9a1e81de",
   "metadata": {},
   "outputs": [
    {
     "data": {
      "text/plain": [
       "{'ES Absolute': np.float64(0.07466543155416903),\n",
       " 'ES Diff from Mean': np.float64(0.12052466326868519)}"
      ]
     },
     "execution_count": 4,
     "metadata": {},
     "output_type": "execute_result"
    }
   ],
   "source": [
    "# Test8.6\n",
    "returns = pd.read_csv('../testfiles/data/test7_2.csv')\n",
    "Utils.es_sim_from_fitted_t(returns)"
   ]
  }
 ],
 "metadata": {
  "kernelspec": {
   "display_name": "Fintech545",
   "language": "python",
   "name": "python3"
  },
  "language_info": {
   "codemirror_mode": {
    "name": "ipython",
    "version": 3
   },
   "file_extension": ".py",
   "mimetype": "text/x-python",
   "name": "python",
   "nbconvert_exporter": "python",
   "pygments_lexer": "ipython3",
   "version": "3.13.2"
  }
 },
 "nbformat": 4,
 "nbformat_minor": 5
}
