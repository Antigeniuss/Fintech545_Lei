{
 "cells": [
  {
   "cell_type": "code",
   "execution_count": 1,
   "id": "9c4e0c01",
   "metadata": {},
   "outputs": [],
   "source": [
    "import pandas as pd\n",
    "import Utils"
   ]
  },
  {
   "cell_type": "code",
   "execution_count": 2,
   "id": "7eac4675",
   "metadata": {},
   "outputs": [],
   "source": [
    "returns = pd.read_csv('../testfiles/data/test9_1_returns.csv')"
   ]
  },
  {
   "cell_type": "code",
   "execution_count": 3,
   "id": "0117974b",
   "metadata": {},
   "outputs": [],
   "source": [
    "samples, R, params = Utils.generate_copula_samples(\n",
    "    n_assets=2,\n",
    "    dist_types=[\"normal\", \"t\"],  \n",
    "    data=returns,                \n",
    "    corr_method=\"spearman\",     \n",
    ")"
   ]
  },
  {
   "cell_type": "code",
   "execution_count": null,
   "id": "2e5dd204",
   "metadata": {},
   "outputs": [
    {
     "name": "stdout",
     "output_type": "stream",
     "text": [
      "   Stock       VaR95        ES95  VaR95_Pct  ES95_Pct\n",
      "0      A   94.615700  118.205952   0.047308  0.059103\n",
      "1      B  109.205961  153.519994   0.036402  0.051173\n",
      "2  Total  154.056529  201.687363   0.030811  0.040337\n"
     ]
    }
   ],
   "source": [
    "out = Utils.portfolio_var_es(\n",
    "    prices=[20, 30],\n",
    "    holdings=[100, 100],\n",
    "    returns=samples, \n",
    "    alpha=0.05\n",
    ")\n",
    "\n",
    "print(out)"
   ]
  },
  {
   "cell_type": "code",
   "execution_count": null,
   "id": "e86b553d",
   "metadata": {},
   "outputs": [],
   "source": []
  }
 ],
 "metadata": {
  "kernelspec": {
   "display_name": "Fintech545",
   "language": "python",
   "name": "python3"
  },
  "language_info": {
   "codemirror_mode": {
    "name": "ipython",
    "version": 3
   },
   "file_extension": ".py",
   "mimetype": "text/x-python",
   "name": "python",
   "nbconvert_exporter": "python",
   "pygments_lexer": "ipython3",
   "version": "3.13.2"
  }
 },
 "nbformat": 4,
 "nbformat_minor": 5
}
